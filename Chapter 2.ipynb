{
 "cells": [
  {
   "cell_type": "markdown",
   "metadata": {},
   "source": [
    "# CHAPTER 2  Dr.Papapantoleon Notes"
   ]
  },
  {
   "cell_type": "code",
   "execution_count": 1,
   "metadata": {},
   "outputs": [],
   "source": [
    "import numpy as np\n",
    "import pandas as pd\n",
    "import scipy.stats as st\n",
    "import sklearn.linear_model as lm\n",
    "import matplotlib.pyplot as plt\n",
    "import scipy.integrate as integrate\n",
    "%matplotlib inline"
   ]
  },
  {
   "cell_type": "markdown",
   "metadata": {},
   "source": [
    "## Inverse Transform \n",
    "$f(x) = 3x^2 , 0\\leq x \\leq 1$\n",
    "\n",
    "\\begin{align*}\n",
    "\\mu=\\mathbb{E}_{f(x)}&= \\int_{a}^{b}x f(x) dx\\\\\n",
    "&=\\int_{0}^{1} x 3x^2 dx \\\\\n",
    "&= [ \\frac{3x^4}{4} ]_{0}^{1}\\\\\n",
    "&= \\frac{3}{4} \\\\\n",
    "&= 0.75\n",
    "\\end{align*}\n",
    "\n",
    "\n",
    "\\begin{align*}\n",
    "    \\mathbf{Var}_{f(x)} &= \\int_{a}^{b}(x-\\mu)^2 \\cdot f(x) dx \\\\\n",
    "    &=\\int_{0}^{1} \\left(x-\\dfrac{3}{4}\\right)^2 3x^2 \\\\\n",
    "    &= \\dfrac{3x^3\\left(16x^2-30x+15\\right)}{80} \\\\\n",
    "    &=\\dfrac{3\\left(16x^5-30x^4+15x^3\\right)}{80} \\\\\n",
    "    &=\\dfrac{48x^5-90x^4+45x^3}{80} \\\\\n",
    "    &=\\left[\\dfrac{48x^5-90x^4+45x^3}{80} \\right]_{0}^{1}\\\\\n",
    "    &=\\dfrac{48-90+45}{80}\\\\\n",
    "    &= \\dfrac{3}{80} \\\\\n",
    "    &= 0.0375\n",
    "\\end{align*}\n",
    "\n",
    "\n",
    "\\begin{align*}\n",
    "\\sigma_{f(x)} &= \\sqrt{\\mathbf{Var}_{f(x)}} \\\\\n",
    "&= \\sqrt{\\dfrac{3}{80}}\\\\\n",
    "&=0.1936492 \n",
    "\\end{align*}\n",
    "\n",
    "\n",
    "The cdf of $f(x) = 3x^2$ is : \n",
    "\\begin{align*}\n",
    "F(x) &= \\int_{0}^{x}f(t) dt \\\\ \n",
    "&= \\int_{0}^{x}3t^2 dt \\\\\n",
    "&= x^3 \n",
    "\\end{align*}\n",
    "\n",
    "Inversing the cdf: \n",
    "\n",
    "\\begin{align*}\n",
    "    y &= x^3 \\\\\n",
    "    x &= y^3 \\\\\n",
    "    \\sqrt[3]{x}&=y\\\\\n",
    "    x^{1/3} &= y\n",
    "\\end{align*}\n",
    "\n",
    "\n",
    "For the inverse method we simulate $U \\sim U(0,1)$,$N=10.000$ random pseudo values and we set $g(x) = x^{1/3}$.\n",
    "\n",
    "Evaluating $g(U) = {U}^{1/3})$ we take the simulated mean and standard deviation which are: $\\mu^{\\star} = 0.748905$ and $\\sigma^{\\star} = 0.193114$ close to the theoretical $\\mu,\\sigma$ which have been calculated above as : $\\mu = 0.75,\\sigma \\approx 0.193$.\n",
    "\n",
    "The simulates values (bins) of the inverse method appear in the graph to follow the same shape as the theoratical curve of $f(x) = 3x^2$\n",
    "\n"
   ]
  },
  {
   "cell_type": "markdown",
   "metadata": {},
   "source": [
    "# mean evaluation with Python"
   ]
  },
  {
   "cell_type": "code",
   "execution_count": 2,
   "metadata": {},
   "outputs": [
    {
     "data": {
      "text/plain": [
       "0.75"
      ]
     },
     "execution_count": 2,
     "metadata": {},
     "output_type": "execute_result"
    },
    {
     "data": {
      "image/png": "[encoded data removed]",
      "text/plain": [
       "<Figure size 432x288 with 1 Axes>"
      ]
     },
     "metadata": {
      "needs_background": "light"
     },
     "output_type": "display_data"
    }
   ],
   "source": [
    "f = lambda x :x*3*x**2\n",
    "x = np.linspace(0,1,100)\n",
    "plt.plot(x,f(x))\n",
    "mu = integrate.quad(f,0,1)[0]\n",
    "mu"
   ]
  },
  {
   "cell_type": "markdown",
   "metadata": {},
   "source": [
    "# Variance evaluation with Python"
   ]
  },
  {
   "cell_type": "code",
   "execution_count": 3,
   "metadata": {},
   "outputs": [
    {
     "data": {
      "text/plain": [
       "0.037500000000000006"
      ]
     },
     "execution_count": 3,
     "metadata": {},
     "output_type": "execute_result"
    }
   ],
   "source": [
    "f = lambda x :((x-mu)**2) * (3*x**2)\n",
    "var = integrate.quad(f,0,1)[0]\n",
    "var"
   ]
  },
  {
   "cell_type": "markdown",
   "metadata": {},
   "source": [
    "# Standard Deviation evaluation with Python"
   ]
  },
  {
   "cell_type": "code",
   "execution_count": 4,
   "metadata": {},
   "outputs": [
    {
     "data": {
      "text/plain": [
       "0.19364916731037085"
      ]
     },
     "execution_count": 4,
     "metadata": {},
     "output_type": "execute_result"
    }
   ],
   "source": [
    "sd = np.sqrt(var)\n",
    "sd"
   ]
  },
  {
   "cell_type": "code",
   "execution_count": 5,
   "metadata": {},
   "outputs": [
    {
     "data": {
      "text/plain": [
       "(array([  4.,   1.,   2.,   1.,   2.,   1.,   3.,   5.,   2.,   8.,   4.,\n",
       "         13.,   9.,   2.,  14.,   9.,  12.,   9.,  16.,  16.,  14.,  14.,\n",
       "         24.,  22.,  16.,  22.,  28.,  30.,  30.,  26.,  31.,  30.,  37.,\n",
       "         43.,  32.,  33.,  48.,  50.,  55.,  40.,  48.,  47.,  64.,  62.,\n",
       "         78.,  67.,  78.,  77.,  75.,  78.,  82.,  82.,  99.,  98.,  92.,\n",
       "        104.,  95.,  92., 122., 105., 113., 125.,  99., 123., 117., 117.,\n",
       "        127., 142., 128., 143., 144., 130., 152., 155., 160., 163., 171.,\n",
       "        152., 183., 197., 202., 188., 205., 199., 235., 221., 217., 222.,\n",
       "        239., 264., 244., 250., 243., 258., 272., 231., 253., 259., 276.,\n",
       "        278.]),\n",
       " array([0.04078417, 0.05037597, 0.05996776, 0.06955955, 0.07915134,\n",
       "        0.08874313, 0.09833493, 0.10792672, 0.11751851, 0.1271103 ,\n",
       "        0.13670209, 0.14629388, 0.15588568, 0.16547747, 0.17506926,\n",
       "        0.18466105, 0.19425284, 0.20384464, 0.21343643, 0.22302822,\n",
       "        0.23262001, 0.2422118 , 0.25180359, 0.26139539, 0.27098718,\n",
       "        0.28057897, 0.29017076, 0.29976255, 0.30935434, 0.31894614,\n",
       "        0.32853793, 0.33812972, 0.34772151, 0.3573133 , 0.3669051 ,\n",
       "        0.37649689, 0.38608868, 0.39568047, 0.40527226, 0.41486405,\n",
       "        0.42445585, 0.43404764, 0.44363943, 0.45323122, 0.46282301,\n",
       "        0.47241481, 0.4820066 , 0.49159839, 0.50119018, 0.51078197,\n",
       "        0.52037376, 0.52996556, 0.53955735, 0.54914914, 0.55874093,\n",
       "        0.56833272, 0.57792451, 0.58751631, 0.5971081 , 0.60669989,\n",
       "        0.61629168, 0.62588347, 0.63547527, 0.64506706, 0.65465885,\n",
       "        0.66425064, 0.67384243, 0.68343422, 0.69302602, 0.70261781,\n",
       "        0.7122096 , 0.72180139, 0.73139318, 0.74098498, 0.75057677,\n",
       "        0.76016856, 0.76976035, 0.77935214, 0.78894393, 0.79853573,\n",
       "        0.80812752, 0.81771931, 0.8273111 , 0.83690289, 0.84649468,\n",
       "        0.85608648, 0.86567827, 0.87527006, 0.88486185, 0.89445364,\n",
       "        0.90404544, 0.91363723, 0.92322902, 0.93282081, 0.9424126 ,\n",
       "        0.95200439, 0.96159619, 0.97118798, 0.98077977, 0.99037156,\n",
       "        0.99996335]),\n",
       " <a list of 100 Patch objects>)"
      ]
     },
     "execution_count": 5,
     "metadata": {},
     "output_type": "execute_result"
    },
    {
     "data": {
      "image/png": "[encoded data removed]",
      "text/plain": [
       "<Figure size 432x288 with 1 Axes>"
      ]
     },
     "metadata": {
      "needs_background": "light"
     },
     "output_type": "display_data"
    }
   ],
   "source": [
    "np.random.seed(123)\n",
    "N = 10000\n",
    "U = np.random.uniform(0,1,N)\n",
    "X = U**(1/3)\n",
    "x = np.linspace(0,1,N)\n",
    "plt.hist(X,bins=100,linewidth=2)"
   ]
  },
  {
   "cell_type": "code",
   "execution_count": 6,
   "metadata": {
    "tags": []
   },
   "outputs": [
    {
     "name": "stdout",
     "output_type": "stream",
     "text": [
      "0.7487746407110433\n",
      "0.19422733636529818\n"
     ]
    }
   ],
   "source": [
    "print(np.mean(X))\n",
    "print(np.std(X))"
   ]
  },
  {
   "cell_type": "markdown",
   "metadata": {},
   "source": [
    "## Exercises 2.1 & 2.2 from Dr.Papapantoleon Notes\n",
    "Implementing the 2.13 example for **Acceptance - Regection** algorithm:\n",
    "We have the target function: $$f(x) = \\sqrt{2/\\pi}  \\exp^{-\\frac{\\chi^2}{2} +\\mid \\chi\\mid}$$"
   ]
  },
  {
   "cell_type": "code",
   "execution_count": 7,
   "metadata": {},
   "outputs": [
    {
     "data": {
      "text/plain": [
       "1.9999999999999993"
      ]
     },
     "execution_count": 7,
     "metadata": {},
     "output_type": "execute_result"
    }
   ],
   "source": [
    "def f(x):\n",
    "    b = np.sqrt(2/np.pi)*np.exp(-x**2/2) \n",
    "    return(b)\n",
    "integrate.quad(f,-np.inf,np.inf)[0]"
   ]
  },
  {
   "cell_type": "markdown",
   "metadata": {},
   "source": [
    "## G(x)\n",
    "We define the candidate function $$g(x) = \\lambda e^{(-\\lambda \\cdot x)}$$ which is a double exponential with parameter $\\lambda = 1$\n"
   ]
  },
  {
   "cell_type": "code",
   "execution_count": 8,
   "metadata": {},
   "outputs": [],
   "source": [
    "def g(x):\n",
    "    g = np.exp(-x)\n",
    "    return(g)"
   ]
  },
  {
   "cell_type": "markdown",
   "metadata": {},
   "source": [
    "## Plot the 2 ranges \n",
    "We define the 2 different ranges of the distribution,the positive and the negative ranges for both sides of the distribution."
   ]
  },
  {
   "cell_type": "code",
   "execution_count": 9,
   "metadata": {},
   "outputs": [
    {
     "data": {
      "image/png": "[encoded data removed]",
      "text/plain": [
       "<Figure size 432x288 with 1 Axes>"
      ]
     },
     "metadata": {
      "needs_background": "light"
     },
     "output_type": "display_data"
    }
   ],
   "source": [
    "range1 = np.arange(-3,3,0.01)\n",
    "range2 = np.arange(0,3,0.01)\n",
    "plt.plot(range1,f(range1))\n",
    "plt.plot(range2,g(range2))\n",
    "plt.plot(-range2,g(range2))\n",
    "plt.show()"
   ]
  },
  {
   "cell_type": "markdown",
   "metadata": {},
   "source": [
    "## M constant \n",
    "If $$P\\left(U \\leq \\frac{f(X)}{M g(X)}\\right) = \\frac{1}{M}$$\n",
    "So the probability of acceptance is $\\frac{1}{M}$,so $M$ should be as small as possible for a given computational effort.The optimum value of $M$ is the maximum of this ratio."
   ]
  },
  {
   "cell_type": "code",
   "execution_count": 10,
   "metadata": {},
   "outputs": [
    {
     "data": {
      "text/plain": [
       "1.315489246958914"
      ]
     },
     "execution_count": 10,
     "metadata": {},
     "output_type": "execute_result"
    }
   ],
   "source": [
    "np.amax(f(range1)/g(range1))"
   ]
  },
  {
   "cell_type": "markdown",
   "metadata": {},
   "source": [
    "## Derivation\n",
    "The derivative of this function:$$ f/g = \\sqrt{(2/\\pi)} \\exp^{(-\\chi^2/2 +\\mid \\chi \\mid)}$$ is:\n",
    "\n",
    "$$ \\displaystyle  \\sqrt{(2/\\pi)} \\exp^{(-\\chi^2/2 +\\mid \\chi \\mid) }* (1-x) = 0 $$\n",
    "$$\\chi = 1$$"
   ]
  },
  {
   "cell_type": "code",
   "execution_count": 11,
   "metadata": {},
   "outputs": [
    {
     "data": {
      "text/plain": [
       "1.315489246958914"
      ]
     },
     "execution_count": 11,
     "metadata": {},
     "output_type": "execute_result"
    }
   ],
   "source": [
    "f(1)/g(1)\n",
    "M =  f(1)/g(1)\n",
    "M"
   ]
  },
  {
   "cell_type": "markdown",
   "metadata": {},
   "source": [
    "The double exponential distribution (with parameter $\\lambda = 1$) has the density $g(x) =  \\frac{1}{2} \\exp - \\mid x \\mid$  for  $x \\in \\mathbb{R}$. Let $f= \\phi$ denote the density of the standard normal distribution. Then:\n",
    "$$  \\frac{\\phi(x)}{g(x)}=\\sqrt{\\frac{2}{\\pi}}e^{-\\frac{x^2}{2}+ \\mid 2 \\mid } \\leq \\sqrt{\\frac{2e}{\\pi}} \\approx 1.315 = c$$"
   ]
  },
  {
   "cell_type": "code",
   "execution_count": 12,
   "metadata": {},
   "outputs": [
    {
     "data": {
      "text/plain": [
       "1.315489246958914"
      ]
     },
     "execution_count": 12,
     "metadata": {},
     "output_type": "execute_result"
    }
   ],
   "source": [
    "np.sqrt(2*np.e/np.pi)"
   ]
  },
  {
   "cell_type": "markdown",
   "metadata": {},
   "source": [
    "## Acceptance Probability\n",
    "\n",
    "$$\\mathbb{P}_{acceptance} = \\frac{1}{M} \\approx 0.76$$"
   ]
  },
  {
   "cell_type": "code",
   "execution_count": 13,
   "metadata": {},
   "outputs": [
    {
     "data": {
      "text/plain": [
       "0.7601734505331403"
      ]
     },
     "execution_count": 13,
     "metadata": {},
     "output_type": "execute_result"
    }
   ],
   "source": [
    "P = 1/M\n",
    "P"
   ]
  },
  {
   "cell_type": "markdown",
   "metadata": {},
   "source": [
    "## Probability of Rejection \n",
    "$$1 - \\mathbb{P}^{\\star}_{acceptance} =  \\mathbb{P}^{\\star}_{rejection} \\approx 0.24$$"
   ]
  },
  {
   "cell_type": "code",
   "execution_count": 14,
   "metadata": {},
   "outputs": [
    {
     "data": {
      "text/plain": [
       "0.23982654946685966"
      ]
     },
     "execution_count": 14,
     "metadata": {},
     "output_type": "execute_result"
    }
   ],
   "source": [
    "1-P"
   ]
  },
  {
   "cell_type": "code",
   "execution_count": 15,
   "metadata": {},
   "outputs": [
    {
     "data": {
      "text/plain": [
       "[<matplotlib.lines.Line2D at 0x7f9aa4d9d2b0>]"
      ]
     },
     "execution_count": 15,
     "metadata": {},
     "output_type": "execute_result"
    },
    {
     "data": {
      "image/png": "[encoded data removed]",
      "text/plain": [
       "<Figure size 432x288 with 1 Axes>"
      ]
     },
     "metadata": {
      "needs_background": "light"
     },
     "output_type": "display_data"
    }
   ],
   "source": [
    "plt.plot(range1,f(range1))\n",
    "plt.plot(range2,M *g(range2))\n",
    "plt.plot(-range2,M *g(range2))"
   ]
  },
  {
   "cell_type": "markdown",
   "metadata": {},
   "source": [
    "Implement acceptance - Rejection in a function in Python:\n",
    "\n",
    "We generate $Y \\sim g, U \\sim U[0,M]$ \n",
    "and then we accept $X=Y$ if $U \\leq \\frac{f(Y) }{M \\cdot g(Y)}$\n",
    "\n",
    "\n",
    "In order to calculate the actual probability of acceptance in the while loop format the output of the previous calculations is mot useful, since it contains only the accepted values.To find the probability of acceptance we have to count the accepted values and the rejected values inside the body of the previous while loop.Therefore we must have:"
   ]
  },
  {
   "cell_type": "code",
   "execution_count": 16,
   "metadata": {},
   "outputs": [
    {
     "data": {
      "text/plain": [
       "10000"
      ]
     },
     "execution_count": 16,
     "metadata": {},
     "output_type": "execute_result"
    }
   ],
   "source": [
    "np.random.seed(123)\n",
    "n=10000\n",
    "M=1.5\n",
    "X = 0\n",
    "AR = np.repeat(0,n)\n",
    "\n",
    "iterations = 0\n",
    "accept     = 0\n",
    "while (X < n):\n",
    "    iterations += 1\n",
    "    u = np.random.uniform(0,1,1)\n",
    "    y = np.random.uniform(0,1,1)\n",
    "    if (u < f(y)/(M*g(y))):\n",
    "        accept += 1\n",
    "        X += 1\n",
    "        AR = y\n",
    "accept"
   ]
  },
  {
   "cell_type": "markdown",
   "metadata": {},
   "source": [
    "## Total number of iterations executed in the while loop "
   ]
  },
  {
   "cell_type": "code",
   "execution_count": 17,
   "metadata": {},
   "outputs": [
    {
     "data": {
      "text/plain": [
       "13244"
      ]
     },
     "execution_count": 17,
     "metadata": {},
     "output_type": "execute_result"
    }
   ],
   "source": [
    "iterations"
   ]
  },
  {
   "cell_type": "markdown",
   "metadata": {},
   "source": [
    "## The actual probability of Acceptance \n",
    "\n",
    "Consequently the $P_{acceptance}^{\\star} \\approx 0.755$ close to the theoretical probability"
   ]
  },
  {
   "cell_type": "code",
   "execution_count": 18,
   "metadata": {},
   "outputs": [
    {
     "data": {
      "text/plain": [
       "0.7550588945937783"
      ]
     },
     "execution_count": 18,
     "metadata": {},
     "output_type": "execute_result"
    }
   ],
   "source": [
    "accept/iterations"
   ]
  },
  {
   "cell_type": "markdown",
   "metadata": {},
   "source": [
    "\n",
    "## The actual probability of Rejection\n",
    "\n",
    "$P_{rejection}^{\\star} \\approx 0.244$\n"
   ]
  },
  {
   "cell_type": "code",
   "execution_count": 19,
   "metadata": {},
   "outputs": [
    {
     "data": {
      "text/plain": [
       "0.2449411054062217"
      ]
     },
     "execution_count": 19,
     "metadata": {},
     "output_type": "execute_result"
    }
   ],
   "source": [
    "reject = iterations - accept\n",
    "reject/iterations "
   ]
  },
  {
   "cell_type": "markdown",
   "metadata": {},
   "source": [
    "\n",
    "## Exercise 2.3 from  Dr.Papapantoleon Notes\n",
    "\n",
    "Implementing **Box Muller**  method:\n",
    "If $U_{1}$ and $U_{2}$ are iid $U_{[0,1]}$,the variables $X_{1}$ and $X_{2}$ are defined by $$X_{1} = \\sqrt{-2 \\log (U_{1})} \\cos(2\\pi U_{2}) $$ and \n",
    "$$X_{2} = \\sqrt{-2 \\log (U_{1})} \\sin(2\\pi U_{2}) $$ are iid $X_{1},X_{2}\\sim Normal(\\mu,\\sigma)$ "
   ]
  },
  {
   "cell_type": "code",
   "execution_count": 20,
   "metadata": {},
   "outputs": [
    {
     "data": {
      "image/png": "[encoded data removed]",
      "text/plain": [
       "<Figure size 432x288 with 2 Axes>"
      ]
     },
     "metadata": {
      "needs_background": "light"
     },
     "output_type": "display_data"
    }
   ],
   "source": [
    "def gaussian(u1,u2):\n",
    "    z1 = np.sqrt(-2*np.log(u1))*np.cos(2*np.pi*u2)\n",
    "    z2 = np.sqrt(-2*np.log(u1))*np.sin(2*np.pi*u2)\n",
    "    return z1,z2\n",
    "\n",
    "\n",
    "u1 = np.random.rand(1000)\n",
    "u2 = np.random.rand(1000)\n",
    "\n",
    "# run the transformation\n",
    "z1,z2 = gaussian(u1,u2)\n",
    "\n",
    "# plotting the values b after the transformation\n",
    "plt.subplot(223) # the second contains\n",
    "plt.hist(z1)     # the histograms of z1 and z2\n",
    "plt.subplot(224)\n",
    "plt.hist(z2)\n",
    "plt.show()"
   ]
  },
  {
   "cell_type": "markdown",
   "metadata": {},
   "source": [
    "## Normality test \n",
    "$X_{1}$ and $X_{2}$ variables have now been reproduced from the Box Muller algorithm above.\n",
    "Now we have to implement a normality test that test the following hypothesis:\n",
    "$$ H_{0}: X_{1},X_{2} \\sim Normal(\\mu,\\sigma^2)$$ against\n",
    "$$ H_{1}: X_{1},X_{2} \\nsim Normal(\\mu,\\sigma^2)$$"
   ]
  },
  {
   "cell_type": "code",
   "execution_count": 21,
   "metadata": {},
   "outputs": [],
   "source": [
    "from scipy import stats"
   ]
  },
  {
   "cell_type": "markdown",
   "metadata": {},
   "source": [
    "Concatenating the two resulting arrays as one array $d = x1,x2$ and ploting it we observe the normal density plot. "
   ]
  },
  {
   "cell_type": "code",
   "execution_count": 22,
   "metadata": {},
   "outputs": [
    {
     "data": {
      "text/plain": [
       "(array([  2.,   0.,   0.,   0.,   1.,   0.,   4.,   4.,   6.,   4.,  12.,\n",
       "         13.,  21.,  28.,  28.,  33.,  43.,  54.,  61.,  63.,  82.,  85.,\n",
       "        107.,  97., 116., 111.,  96., 100.,  93.,  92., 113.,  81.,  85.,\n",
       "         67.,  63.,  48.,  37.,  34.,  31.,  19.,  18.,  11.,   9.,   9.,\n",
       "         11.,   3.,   2.,   2.,   0.,   1.]),\n",
       " array([-3.5598609 , -3.42513336, -3.29040582, -3.15567828, -3.02095073,\n",
       "        -2.88622319, -2.75149565, -2.61676811, -2.48204057, -2.34731303,\n",
       "        -2.21258549, -2.07785795, -1.9431304 , -1.80840286, -1.67367532,\n",
       "        -1.53894778, -1.40422024, -1.2694927 , -1.13476516, -1.00003762,\n",
       "        -0.86531008, -0.73058253, -0.59585499, -0.46112745, -0.32639991,\n",
       "        -0.19167237, -0.05694483,  0.07778271,  0.21251025,  0.3472378 ,\n",
       "         0.48196534,  0.61669288,  0.75142042,  0.88614796,  1.0208755 ,\n",
       "         1.15560304,  1.29033058,  1.42505812,  1.55978567,  1.69451321,\n",
       "         1.82924075,  1.96396829,  2.09869583,  2.23342337,  2.36815091,\n",
       "         2.50287845,  2.63760599,  2.77233354,  2.90706108,  3.04178862,\n",
       "         3.17651616]),\n",
       " <a list of 50 Patch objects>)"
      ]
     },
     "execution_count": 22,
     "metadata": {},
     "output_type": "execute_result"
    },
    {
     "data": {
      "image/png": "[encoded data removed]",
      "text/plain": [
       "<Figure size 432x288 with 1 Axes>"
      ]
     },
     "metadata": {
      "needs_background": "light"
     },
     "output_type": "display_data"
    }
   ],
   "source": [
    "d= np.concatenate((z1,z2))\n",
    "plt.hist(d,bins = 50)"
   ]
  },
  {
   "cell_type": "code",
   "execution_count": 23,
   "metadata": {},
   "outputs": [],
   "source": [
    "k2, p = stats.normaltest(d)"
   ]
  },
  {
   "cell_type": "markdown",
   "metadata": {},
   "source": [
    "## statistic value"
   ]
  },
  {
   "cell_type": "code",
   "execution_count": 24,
   "metadata": {},
   "outputs": [
    {
     "data": {
      "text/plain": [
       "0.30383053276575395"
      ]
     },
     "execution_count": 24,
     "metadata": {},
     "output_type": "execute_result"
    }
   ],
   "source": [
    "k2"
   ]
  },
  {
   "cell_type": "markdown",
   "metadata": {},
   "source": [
    "## p-value"
   ]
  },
  {
   "cell_type": "code",
   "execution_count": 25,
   "metadata": {},
   "outputs": [
    {
     "data": {
      "text/plain": [
       "0.8590610690089799"
      ]
     },
     "execution_count": 25,
     "metadata": {},
     "output_type": "execute_result"
    }
   ],
   "source": [
    "p"
   ]
  },
  {
   "cell_type": "code",
   "execution_count": 26,
   "metadata": {},
   "outputs": [
    {
     "name": "stdout",
     "output_type": "stream",
     "text": [
      "p = 0.859061\n",
      "The null hypothesis cannot be rejected\n"
     ]
    }
   ],
   "source": [
    "alpha = 0.05\n",
    "print(\"p = {:g}\".format(p))\n",
    "if p < alpha:  # null hypothesis: x comes from a normal distribution\n",
    "     print(\"The null hypothesis can be rejected\")\n",
    "else:\n",
    "     print(\"The null hypothesis cannot be rejected\")"
   ]
  },
  {
   "cell_type": "markdown",
   "metadata": {},
   "source": [
    "## Exercise 2.7 **Papapantoleon Notes** \n",
    "We set the function for the Black Scholes Formula \n",
    "$$ c = S_{0}e^{-rT}N(d_{1} - K e^{-rT}N(d_{2})) $$\n",
    "$$ p = K e^{-rT}N(-d_{2})) -S_{0}e^{-rT}N(-d_{1}) $$\n",
    "$$ d_{1} = \\frac{\\log(S_{0}/K) + (r+ \\sigma^2)T}{\\sigma \\sqrt{T}}$$\n",
    "$$ d_{2} = \\frac{\\log(S_{0}/K) + (r- \\sigma^2)T}{\\sigma \\sqrt{T}}$$\n",
    "\n",
    "and finally the call price is evaluated by :\n",
    "$$\\mathbb{S}_{0} \\times \\Phi(d_{1}) - K e^{-rT}\\times \\Phi (d_{2}) $$\n",
    "where $\\Phi$ is the standard normal distribution value at $d_{1}$ and $d_{2}$. "
   ]
  },
  {
   "cell_type": "code",
   "execution_count": 27,
   "metadata": {},
   "outputs": [],
   "source": [
    "from scipy.stats import norm\n",
    "def Call(S, K, r, T, sigma):\n",
    "    d1  =  (np.log(S/K) + (r + sigma**2/2)*T) / (sigma*np.sqrt(T))\n",
    "    d2  =  d1 - sigma * np.sqrt(T)\n",
    "    return(S * norm.cdf(d1)  - K*np.exp(-r*T)*norm.cdf(d2))"
   ]
  },
  {
   "cell_type": "code",
   "execution_count": 28,
   "metadata": {},
   "outputs": [
    {
     "data": {
      "text/plain": [
       "30.060024946553497"
      ]
     },
     "execution_count": 28,
     "metadata": {},
     "output_type": "execute_result"
    }
   ],
   "source": [
    "Call(S=100, K=70, r=0, T=1, sigma=.16)"
   ]
  },
  {
   "cell_type": "code",
   "execution_count": 29,
   "metadata": {},
   "outputs": [],
   "source": [
    "def Put(S, K, r, T, sigma):\n",
    "    d1  =  (np.log(S/K) + (r + sigma**2/2)*T) / (sigma*np.sqrt(T))\n",
    "    d2  =  d1 - sigma*np.sqrt(T)\n",
    "    return(-S * norm.cdf(-d1) + K*np.exp(-r*T)*norm.cdf(-d2))"
   ]
  },
  {
   "cell_type": "code",
   "execution_count": 30,
   "metadata": {},
   "outputs": [
    {
     "data": {
      "text/plain": [
       "0.06002494655348656"
      ]
     },
     "execution_count": 30,
     "metadata": {},
     "output_type": "execute_result"
    }
   ],
   "source": [
    "Put(S=100, K=70, r=0, T=1, sigma=.16)"
   ]
  },
  {
   "cell_type": "markdown",
   "metadata": {},
   "source": [
    "Now we write a new function for the Monte Carlo Simulation Method.\n",
    "Note here that as has been asked the function evaluates the mean,the confidence intervals (lower and upper bound) at $\\alpha =0.05$  confidence level and also the RMSE."
   ]
  },
  {
   "cell_type": "code",
   "execution_count": 31,
   "metadata": {},
   "outputs": [
    {
     "data": {
      "text/plain": [
       "(30.473260265154007,\n",
       " 0.019639236380525504,\n",
       " 30.453621028773483,\n",
       " 30.49289950153453,\n",
       " 0.00010040446184985091)"
      ]
     },
     "execution_count": 31,
     "metadata": {},
     "output_type": "execute_result"
    }
   ],
   "source": [
    "from scipy.stats import norm\n",
    "import numpy as np\n",
    "np.random.seed(123)\n",
    "def Callsim(S0, K, r, Ti, sigma,M):\n",
    "    ri      = (r-0.5*sigma**2)*Ti\n",
    "    sd      = sigma*np.sqrt(Ti)\n",
    "    price   = S0*np.exp(ri+sd*np.random.normal(0,1,M))\n",
    "    call    = np.maximum(price - K,0)\n",
    "    Pcall   = call*(np.exp(-ri*Ti))\n",
    "    pricem  = np.mean(Pcall)\n",
    "    SE      = norm.ppf(1-0.05/2) * np.std(Pcall)/np.sqrt(M)\n",
    "    lower95 = pricem - SE\n",
    "    upper95 = pricem + SE\n",
    "    rmse    = np.var(Pcall)/(M)\n",
    "    return(pricem,SE,lower95,upper95,rmse)\n",
    "\n",
    "\n",
    "S0 = 100     \n",
    "K  = 70        \n",
    "r  = 0.02      \n",
    "Ti = 1/4       \n",
    "sigma  = 0.02 \n",
    "M = 10000\n",
    "Callsim(S0,K,r,Ti,sigma,M)"
   ]
  },
  {
   "cell_type": "markdown",
   "metadata": {},
   "source": [
    "##  Exercises  2.9 & 2.10  **Papapantoleon Notes** (Variance Reduction Techniques)"
   ]
  },
  {
   "cell_type": "code",
   "execution_count": 32,
   "metadata": {},
   "outputs": [],
   "source": [
    "M  = 10000\n",
    "S0 = 100\n",
    "K  = 70\n",
    "r  = 0.02\n",
    "Ti = 1/4       \n",
    "sigma = 0.02"
   ]
  },
  {
   "cell_type": "code",
   "execution_count": 33,
   "metadata": {},
   "outputs": [
    {
     "data": {
      "text/plain": [
       "(30.473972148623265,\n",
       " 0.019729072050840013,\n",
       " 30.454243076572425,\n",
       " 30.493701220674104,\n",
       " 0.00010132512208393378)"
      ]
     },
     "execution_count": 33,
     "metadata": {},
     "output_type": "execute_result"
    }
   ],
   "source": [
    "Callsim(S0,K,r,Ti,sigma,M)"
   ]
  },
  {
   "cell_type": "markdown",
   "metadata": {},
   "source": [
    "# Antithetic Variates "
   ]
  },
  {
   "cell_type": "code",
   "execution_count": 34,
   "metadata": {},
   "outputs": [
    {
     "data": {
      "text/plain": [
       "(30.46331996159101,\n",
       " 0.0001328190241285658,\n",
       " 30.463187142566884,\n",
       " 30.46345278061514,\n",
       " 4.592237999645394e-09)"
      ]
     },
     "execution_count": 34,
     "metadata": {},
     "output_type": "execute_result"
    }
   ],
   "source": [
    "def Callavsim(S0, K, r, Ti, sigma,M):\n",
    "   \n",
    "    ri      = (r-0.5*sigma**2)*Ti\n",
    "    sd      = sigma*np.sqrt(Ti)\n",
    "    U       = np.random.normal(0,sd,int(M/2))\n",
    "    st1     = S0*np.exp(ri+U)\n",
    "    st2     = S0*np.exp(ri-U)\n",
    "    price   = (st1+st2) / 2\n",
    "    call    = np.maximum(price - K,0)\n",
    "    Pcall   = call*(np.exp(-ri*Ti))\n",
    "    pricem  = np.mean(Pcall)\n",
    "    SE      = norm.ppf(1-0.05/2)*np.std(Pcall)/np.sqrt(M)\n",
    "    lower95 = pricem - SE\n",
    "    upper95 = pricem + SE\n",
    "    rmse    = np.var(Pcall)/(M)\n",
    "    return(pricem,SE,lower95,upper95,rmse)\n",
    "\n",
    "\n",
    "S0 = 100     \n",
    "K  = 70        \n",
    "r  = 0.02       \n",
    "Ti = 1/4       \n",
    "sigma  = 0.02 \n",
    "M = 10000\n",
    "Callavsim(S0,K,r,Ti,sigma,M)"
   ]
  },
  {
   "cell_type": "markdown",
   "metadata": {},
   "source": [
    "#  CONTROL VARIATE MONTE CARLO SIMULATION"
   ]
  },
  {
   "cell_type": "code",
   "execution_count": 35,
   "metadata": {},
   "outputs": [
    {
     "data": {
      "text/plain": [
       "(30.34912506278054,\n",
       " 1.97836559217114e-06,\n",
       " 30.34912308441495,\n",
       " 30.349127041146133,\n",
       " 1.0188656442709037e-12)"
      ]
     },
     "execution_count": 35,
     "metadata": {},
     "output_type": "execute_result"
    }
   ],
   "source": [
    "def Callcvsim(S0, K, r, Ti, sigma,M):\n",
    "    st = S0*np.exp((r-0.5*sigma**2)*Ti + sigma* np.random.normal(0,np.sqrt(Ti),M))\n",
    "    payoff  = np.exp(-r*Ti)*np.maximum(st-K,0)\n",
    "    theta   = np.cov(st,payoff)[0,1]/np.var(st)\n",
    "    cv      = payoff - theta*(st - S0*np.exp(r*Ti))\n",
    "    Price   = np.mean(cv)\n",
    "    SE      = norm.ppf(1-0.05/2)*np.std(cv)/np.sqrt(M)\n",
    "    lower95 = Price - SE\n",
    "    upper95 = Price + SE\n",
    "    rmse    = np.var(cv)/(M)                                                             \n",
    "    return(Price,SE,lower95,upper95,rmse)\n",
    "\n",
    "\n",
    "\n",
    "\n",
    "S0 = 100     \n",
    "K  = 70        \n",
    "r  = 0.02       \n",
    "Ti = 1/4       \n",
    "sigma  = 0.02 \n",
    "M = 10000\n",
    "Callcvsim(S0,K,r,Ti,sigma,M)\n",
    "\n"
   ]
  },
  {
   "cell_type": "markdown",
   "metadata": {},
   "source": [
    "# Mixed Method for AV & CV"
   ]
  },
  {
   "cell_type": "code",
   "execution_count": 36,
   "metadata": {},
   "outputs": [
    {
     "data": {
      "text/plain": [
       "(30.349127242102707,\n",
       " 1.4189892556587828e-06,\n",
       " 30.34912582311345,\n",
       " 30.349128661091964,\n",
       " 5.241577748609668e-13)"
      ]
     },
     "execution_count": 36,
     "metadata": {},
     "output_type": "execute_result"
    }
   ],
   "source": [
    "def Callmxsim(S0, K, r, Ti, sigma,M):\n",
    "   \n",
    "    ri      = (r-0.5*sigma**2)*Ti\n",
    "    sd      = sigma*np.sqrt(Ti)\n",
    "    U       = np.random.normal(0,sd,int(M/2))\n",
    "    st1     = S0*np.exp(ri+U)\n",
    "    st2     = S0*np.exp(ri-U)\n",
    "    price   = (st1+st2) / 2\n",
    "    \n",
    " \n",
    "    price1  = np.maximum(price - K,0) * np.exp(-r*Ti)\n",
    "    theta   = np.cov(price,price1)[1,0]/np.var(price1)\n",
    "    mx      = price1 - theta*(price - S0*np.exp(r*Ti))\n",
    "       \n",
    "    Price   = np.mean(mx)\n",
    "    SE      = norm.ppf(1-0.05/2)*np.std(mx)/np.sqrt(M)\n",
    "    lower95 = Price - SE\n",
    "    upper95 = Price + SE\n",
    "    rmse    = np.var(mx)/(M)                                                             \n",
    "    return(Price,SE,lower95,upper95,rmse)\n",
    "\n",
    "\n",
    "\n",
    "S0 = 100     \n",
    "K  = 70        \n",
    "r  = 0.02       \n",
    "Ti = 1/4       \n",
    "sigma  = 0.02 \n",
    "M = 10000\n",
    "Callmxsim(S0,K,r,Ti,sigma,M)"
   ]
  },
  {
   "cell_type": "markdown",
   "metadata": {},
   "source": [
    "# Comparison of these 4 methods \n"
   ]
  },
  {
   "cell_type": "code",
   "execution_count": 37,
   "metadata": {},
   "outputs": [],
   "source": [
    "mc = Callsim(S0,K,r,Ti,sigma,M)\n",
    "av = Callavsim(S0,K,r,Ti,sigma,M)\n",
    "cv = Callcvsim(S0,K,r,Ti,sigma,M)\n",
    "mx = Callmxsim(S0,K,r,Ti,sigma,M)"
   ]
  },
  {
   "cell_type": "code",
   "execution_count": 43,
   "metadata": {},
   "outputs": [
    {
     "data": {
      "text/html": [
       "<div>\n",
       "<style scoped>\n",
       "    .dataframe tbody tr th:only-of-type {\n",
       "        vertical-align: middle;\n",
       "    }\n",
       "\n",
       "    .dataframe tbody tr th {\n",
       "        vertical-align: top;\n",
       "    }\n",
       "\n",
       "    .dataframe thead th {\n",
       "        text-align: right;\n",
       "    }\n",
       "</style>\n",
       "<table border=\"1\" class=\"dataframe\">\n",
       "  <thead>\n",
       "    <tr style=\"text-align: right;\">\n",
       "      <th></th>\n",
       "      <th>Plain Monte - Carlo</th>\n",
       "      <th>Antithetic Variates</th>\n",
       "      <th>Control Variates</th>\n",
       "      <th>Mixed AV &amp; CV</th>\n",
       "    </tr>\n",
       "  </thead>\n",
       "  <tbody>\n",
       "    <tr>\n",
       "      <th>Price</th>\n",
       "      <td>30.46306</td>\n",
       "      <td>30.46350</td>\n",
       "      <td>30.34913</td>\n",
       "      <td>30.34913</td>\n",
       "    </tr>\n",
       "    <tr>\n",
       "      <th>Standard Error</th>\n",
       "      <td>0.01976</td>\n",
       "      <td>0.00014</td>\n",
       "      <td>0.00000</td>\n",
       "      <td>0.00000</td>\n",
       "    </tr>\n",
       "    <tr>\n",
       "      <th>Lower 95%</th>\n",
       "      <td>30.44330</td>\n",
       "      <td>30.46337</td>\n",
       "      <td>30.34913</td>\n",
       "      <td>30.34912</td>\n",
       "    </tr>\n",
       "    <tr>\n",
       "      <th>Upper 95%</th>\n",
       "      <td>30.48282</td>\n",
       "      <td>30.46364</td>\n",
       "      <td>30.34913</td>\n",
       "      <td>30.34913</td>\n",
       "    </tr>\n",
       "    <tr>\n",
       "      <th>RMSE</th>\n",
       "      <td>0.00010</td>\n",
       "      <td>0.00000</td>\n",
       "      <td>0.00000</td>\n",
       "      <td>0.00000</td>\n",
       "    </tr>\n",
       "  </tbody>\n",
       "</table>\n",
       "</div>"
      ],
      "text/plain": [
       "                Plain Monte - Carlo  Antithetic Variates  Control Variates  \\\n",
       "Price                      30.46306             30.46350          30.34913   \n",
       "Standard Error              0.01976              0.00014           0.00000   \n",
       "Lower 95%                  30.44330             30.46337          30.34913   \n",
       "Upper 95%                  30.48282             30.46364          30.34913   \n",
       "RMSE                        0.00010              0.00000           0.00000   \n",
       "\n",
       "                Mixed AV & CV  \n",
       "Price                30.34913  \n",
       "Standard Error        0.00000  \n",
       "Lower 95%            30.34912  \n",
       "Upper 95%            30.34913  \n",
       "RMSE                  0.00000  "
      ]
     },
     "execution_count": 43,
     "metadata": {},
     "output_type": "execute_result"
    }
   ],
   "source": [
    "df = pd.DataFrame({'Plain Monte - Carlo':mc,\n",
    "                   'Antithetic Variates':av,\n",
    "                   'Control Variates'   :cv,\n",
    "                   'Mixed AV & CV'      :mx   })\n",
    "df.index = ['Price', 'Standard Error', 'Lower 95%', 'Upper 95%', 'RMSE']\n",
    "np.round(df,5)"
   ]
  },
  {
   "cell_type": "code",
   "execution_count": 48,
   "metadata": {},
   "outputs": [
    {
     "data": {
      "text/html": [
       "<div>\n",
       "<style scoped>\n",
       "    .dataframe tbody tr th:only-of-type {\n",
       "        vertical-align: middle;\n",
       "    }\n",
       "\n",
       "    .dataframe tbody tr th {\n",
       "        vertical-align: top;\n",
       "    }\n",
       "\n",
       "    .dataframe thead th {\n",
       "        text-align: right;\n",
       "    }\n",
       "</style>\n",
       "<table border=\"1\" class=\"dataframe\">\n",
       "  <thead>\n",
       "    <tr style=\"text-align: right;\">\n",
       "      <th></th>\n",
       "      <th>Plain Monte - Carlo</th>\n",
       "      <th>Antithetic Variates</th>\n",
       "      <th>Control Variates</th>\n",
       "      <th>Mixed AV &amp; CV</th>\n",
       "    </tr>\n",
       "  </thead>\n",
       "  <tbody>\n",
       "    <tr>\n",
       "      <th>Price</th>\n",
       "      <td>30.463060</td>\n",
       "      <td>3.046350e+01</td>\n",
       "      <td>3.034913e+01</td>\n",
       "      <td>3.034913e+01</td>\n",
       "    </tr>\n",
       "    <tr>\n",
       "      <th>Standard Error</th>\n",
       "      <td>0.019760</td>\n",
       "      <td>1.352412e-04</td>\n",
       "      <td>1.941996e-06</td>\n",
       "      <td>1.435575e-06</td>\n",
       "    </tr>\n",
       "    <tr>\n",
       "      <th>Lower 95%</th>\n",
       "      <td>30.443300</td>\n",
       "      <td>3.046337e+01</td>\n",
       "      <td>3.034913e+01</td>\n",
       "      <td>3.034912e+01</td>\n",
       "    </tr>\n",
       "    <tr>\n",
       "      <th>Upper 95%</th>\n",
       "      <td>30.482820</td>\n",
       "      <td>3.046364e+01</td>\n",
       "      <td>3.034913e+01</td>\n",
       "      <td>3.034913e+01</td>\n",
       "    </tr>\n",
       "    <tr>\n",
       "      <th>RMSE</th>\n",
       "      <td>0.000102</td>\n",
       "      <td>4.761300e-09</td>\n",
       "      <td>1.000000e-12</td>\n",
       "      <td>5.000000e-13</td>\n",
       "    </tr>\n",
       "  </tbody>\n",
       "</table>\n",
       "</div>"
      ],
      "text/plain": [
       "                Plain Monte - Carlo  Antithetic Variates  Control Variates  \\\n",
       "Price                     30.463060         3.046350e+01      3.034913e+01   \n",
       "Standard Error             0.019760         1.352412e-04      1.941996e-06   \n",
       "Lower 95%                 30.443300         3.046337e+01      3.034913e+01   \n",
       "Upper 95%                 30.482820         3.046364e+01      3.034913e+01   \n",
       "RMSE                       0.000102         4.761300e-09      1.000000e-12   \n",
       "\n",
       "                Mixed AV & CV  \n",
       "Price            3.034913e+01  \n",
       "Standard Error   1.435575e-06  \n",
       "Lower 95%        3.034912e+01  \n",
       "Upper 95%        3.034913e+01  \n",
       "RMSE             5.000000e-13  "
      ]
     },
     "execution_count": 48,
     "metadata": {},
     "output_type": "execute_result"
    }
   ],
   "source": [
    "np.round(df,13) # rounding up to 13 demical to observe the difference in RMSE "
   ]
  },
  {
   "cell_type": "code",
   "execution_count": null,
   "metadata": {},
   "outputs": [],
   "source": []
  },
  {
   "cell_type": "code",
   "execution_count": null,
   "metadata": {},
   "outputs": [],
   "source": []
  }
 ],
 "metadata": {
  "kernelspec": {
   "display_name": "Python 3",
   "language": "python",
   "name": "python3"
  },
  "language_info": {
   "codemirror_mode": {
    "name": "ipython",
    "version": 3
   },
   "file_extension": ".py",
   "mimetype": "text/x-python",
   "name": "python",
   "nbconvert_exporter": "python",
   "pygments_lexer": "ipython3",
   "version": "3.8.3"
  }
 },
 "nbformat": 4,
 "nbformat_minor": 4
}
