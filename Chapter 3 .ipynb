{
 "cells": [
  {
   "cell_type": "markdown",
   "metadata": {},
   "source": [
    "## Quasi Monte Carlo "
   ]
  },
  {
   "cell_type": "markdown",
   "metadata": {},
   "source": [
    "\n",
    "## European call Option \n",
    "\n",
    "Suppose we want to price an option with the initial asset price: $$S_{0}=100$$\n",
    "strike price: $$K=100$$\n",
    "risk free rate: $$ r=0.02$$\n",
    "volatility: $$ \\sigma =0.25$$\n",
    "and maturity: $$T=1$$\n",
    "year. Risk-neutral pricing process is as follows:\n",
    "$$ S_{T} = S_{0} \\times \\exp((r-\\sigma^2/2 )T +\\sigma Z\\sqrt{T})$$\n",
    "where $Z$ denotes the Brownian Motion which follows the normal distribution with $Z \\sim N(0,1)$"
   ]
  },
  {
   "cell_type": "markdown",
   "metadata": {},
   "source": [
    "## Halton Sequence dimension $(d=1)$ is the Van Der Corput sequence\n",
    "\n",
    "We generate Halton sequence of prime numbers $n=10^3$ with  that follow the Normal Distribution for mimicing the Brownian Motion in European call Option:\n",
    "\n"
   ]
  },
  {
   "cell_type": "code",
   "execution_count": null,
   "metadata": {},
   "outputs": [],
   "source": [
    "import numpy as np\n",
    "import matplotlib.pyplot as plt\n",
    "import chaospy\n",
    "distribution = chaospy.J(chaospy.Normal(0, 1),chaospy.Normal(0, 1))\n",
    "samples = distribution.sample(1000,rule=\"halton\")[0]"
   ]
  },
  {
   "cell_type": "markdown",
   "metadata": {},
   "source": [
    "## Next we test the normality of this sequence\n",
    "\n",
    "$$H_{O}: p_{1},p_{2},\\dots,p_{D} \\sim N(0.1)$$\n",
    "$$H_{1}: p_{1},p_{2},\\dots,p_{D} \\nsim N(0.1)$$"
   ]
  },
  {
   "cell_type": "code",
   "execution_count": null,
   "metadata": {},
   "outputs": [],
   "source": [
    "from scipy import stats\n",
    "kolmogorov_test = stats.kstest(samples, 'norm',alternative='two-sided')\n",
    "print(kolmogorov_test)\n",
    "shapiro_test = stats.shapiro(samples)\n",
    "print(shapiro_test)"
   ]
  },
  {
   "cell_type": "code",
   "execution_count": null,
   "metadata": {},
   "outputs": [],
   "source": [
    "from scipy import stats\n",
    "p = shapiro_test.pvalue\n",
    "alpha = 0.05\n",
    "\n",
    "if p < alpha:  # null hypothesis: x comes from a normal distribution\n",
    "     print(\"The null hypothesis can be rejected\")\n",
    "else:\n",
    "     print(\"The null hypothesis cannot be rejected\")"
   ]
  },
  {
   "cell_type": "code",
   "execution_count": null,
   "metadata": {},
   "outputs": [],
   "source": [
    "import numpy as np\n",
    "import pandas as pd\n",
    "import scipy.stats as st\n",
    "import sklearn.linear_model as lm\n",
    "import matplotlib.pyplot as plt\n",
    "plt.hist(samples,bins=50,density=1)\n",
    "plt.show()"
   ]
  },
  {
   "cell_type": "code",
   "execution_count": null,
   "metadata": {},
   "outputs": [],
   "source": [
    "def Callqsim(S0, K, r, Ti, sigma,M):\n",
    "    \n",
    "    \n",
    "    distribution = chaospy.J(chaospy.Normal(0, 1),chaospy.Normal(0, 1))\n",
    "    \n",
    "    samples = np.array(distribution.sample(M,rule=\"halton\"))[0]\n",
    "    \n",
    "    \n",
    "    ri      = (r-0.5*sigma**2)*Ti\n",
    "    sd      = sigma*np.sqrt(Ti)\n",
    "    \n",
    "    price   = S0*np.exp(ri+sd*samples)\n",
    "    call    = np.maximum(price - K,0)\n",
    "    \n",
    "    Pcall   = call*(np.exp(-ri*Ti))\n",
    "    \n",
    "    pricem  = np.mean(Pcall)\n",
    "    rmse    = np.var(Pcall)/M\n",
    "    rate    = 1/np.sqrt(M)\n",
    "    \n",
    "    return(pricem,rmse,rate)\n",
    "\n",
    "\n",
    "S0 = 100     \n",
    "K  = 70        \n",
    "r  = 0.02       \n",
    "Ti = 1/4       \n",
    "sigma = 0.02 \n",
    "M = 1000\n",
    "Callqsim(S0,K,r,Ti,sigma,M)"
   ]
  },
  {
   "cell_type": "code",
   "execution_count": null,
   "metadata": {},
   "outputs": [],
   "source": [
    "np.random.seed(6969)\n",
    "qmc_simul = Callqsim(S0,K,r,Ti,sigma,M)\n",
    "qmc_simul = np.asmatrix(qmc_simul)\n",
    "qmc_simul"
   ]
  },
  {
   "cell_type": "code",
   "execution_count": null,
   "metadata": {},
   "outputs": [],
   "source": [
    "N=100\n",
    "items = np.arange(2,N,1)\n",
    "qmc_simul1 = []\n",
    "for i in items:\n",
    "    qmc_simul1.append(Callqsim(S0,K,r,Ti,sigma,N*i))\n",
    "qmc_simul1 = np.asmatrix(qmc_simul1)"
   ]
  },
  {
   "cell_type": "code",
   "execution_count": null,
   "metadata": {},
   "outputs": [],
   "source": [
    "qmc = np.concatenate((qmc_simul,qmc_simul1))"
   ]
  },
  {
   "cell_type": "markdown",
   "metadata": {},
   "source": [
    "## Value plot"
   ]
  },
  {
   "cell_type": "code",
   "execution_count": null,
   "metadata": {},
   "outputs": [],
   "source": [
    "plt.figure(figsize=(12,4))\n",
    "plt.xlim(0,(N))\n",
    "\n",
    "plt.plot((qmc[:,0]))"
   ]
  },
  {
   "cell_type": "markdown",
   "metadata": {},
   "source": [
    "## convergence rate plot "
   ]
  },
  {
   "cell_type": "code",
   "execution_count": null,
   "metadata": {},
   "outputs": [],
   "source": [
    "plt.figure(figsize=(12,4))\n",
    "plt.xlim(0,(N))\n",
    "\n",
    "plt.plot((qmc[:,2]))"
   ]
  },
  {
   "cell_type": "code",
   "execution_count": null,
   "metadata": {},
   "outputs": [],
   "source": [
    "n = 10**4\n",
    "M = np.arange(100,n+1,1)"
   ]
  },
  {
   "cell_type": "markdown",
   "metadata": {},
   "source": [
    "$$MC = \\frac{1}{\\sqrt{M}}$$"
   ]
  },
  {
   "cell_type": "markdown",
   "metadata": {},
   "source": [
    "$$QMC_{d=1} = \\frac{\\log(M)^{1}}{M}$$"
   ]
  },
  {
   "cell_type": "markdown",
   "metadata": {},
   "source": [
    "$$QMC_{d=2} = \\frac{\\log(M)^{2}}{M}$$"
   ]
  },
  {
   "cell_type": "markdown",
   "metadata": {},
   "source": [
    "$$QMC_{d=3} = \\frac{\\log(M)^{3}}{M}$$"
   ]
  },
  {
   "cell_type": "code",
   "execution_count": null,
   "metadata": {},
   "outputs": [],
   "source": [
    "plt.figure(figsize=(15,5))\n",
    "plt.plot(np.log(M),np.log(1/np.sqrt(M)), color=\"blue\",label=\"MC\")\n",
    "plt.plot(np.log(M),np.log(np.log(M)**1/M),color=\"green\",label=\"QMC 1d\" )\n",
    "plt.plot(np.log(M),np.log(np.log(M)**2/M),color=\"red\" ,label=\"QMC 2d\")\n",
    "plt.plot(np.log(M),np.log(np.log(M)**3/M),color=\"lightblue\",label=\"QMC 3d\")\n",
    "plt.legend(loc=\"upper right\")\n",
    "plt.xlabel(\"log(M)\")\n",
    "plt.ylabel(\"Theoretical Converegence Rate\")\n",
    "plt.show()"
   ]
  },
  {
   "cell_type": "code",
   "execution_count": null,
   "metadata": {},
   "outputs": [],
   "source": []
  }
 ],
 "metadata": {
  "kernelspec": {
   "display_name": "Python 3",
   "language": "python",
   "name": "python3"
  },
  "language_info": {
   "codemirror_mode": {
    "name": "ipython",
    "version": 3
   },
   "file_extension": ".py",
   "mimetype": "text/x-python",
   "name": "python",
   "nbconvert_exporter": "python",
   "pygments_lexer": "ipython3",
   "version": "3.8.3"
  }
 },
 "nbformat": 4,
 "nbformat_minor": 4
}
