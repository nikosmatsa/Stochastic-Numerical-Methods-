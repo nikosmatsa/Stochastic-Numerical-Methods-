{
 "cells": [
  {
   "cell_type": "markdown",
   "metadata": {},
   "source": [
    "## Quasi Monte Carlo "
   ]
  },
  {
   "cell_type": "markdown",
   "metadata": {},
   "source": [
    "\n",
    "## European call Option \n",
    "\n",
    "Suppose we want to price an option with the initial asset price: $$S_{0}=100$$\n",
    "strike price: $$K=100$$\n",
    "risk free rate: $$ r=0.02$$\n",
    "volatility: $$ \\sigma =0.25$$\n",
    "and maturity: $$T=1$$\n",
    "year. Risk-neutral pricing process is as follows:\n",
    "$$ S_{T} = S_{0} \\times \\exp((r-\\sigma^2/2 )T +\\sigma Z\\sqrt{T})$$\n",
    "where $Z$ denotes the Brownian Motion which follows the normal distribution with $Z \\sim N(0,1)$"
   ]
  },
  {
   "cell_type": "markdown",
   "metadata": {},
   "source": [
    "## Halton Sequence dimension is the Van Der Corput sequence\n",
    "\n",
    "We generate Halton sequence of prime numbers $n=10^3$ with  that follow the Normal Distribution for mimicing the Brownian Motion in European call Option:\n",
    "\n"
   ]
  },
  {
   "cell_type": "code",
   "execution_count": 1,
   "metadata": {},
   "outputs": [],
   "source": [
    "import chaospy\n",
    "distribution = chaospy.J(chaospy.Normal(0, 1),chaospy.Normal(0, 1))\n",
    "samples = distribution.sample(1000,rule=\"halton\")[0]"
   ]
  },
  {
   "cell_type": "markdown",
   "metadata": {},
   "source": [
    "## Next we test the normality of this sequence\n",
    "\n",
    "$$H_{O}: p_{1},p_{2},\\dots,p_{D} \\sim N(0.1)$$\n",
    "$$H_{1}: p_{1},p_{2},\\dots,p_{D} \\nsim N(0.1)$$"
   ]
  },
  {
   "cell_type": "code",
   "execution_count": 2,
   "metadata": {},
   "outputs": [
    {
     "name": "stdout",
     "output_type": "stream",
     "text": [
      "KstestResult(statistic=0.0024531250000000004, pvalue=1.0)\n",
      "ShapiroResult(statistic=0.9994845986366272, pvalue=0.9973069429397583)\n"
     ]
    }
   ],
   "source": [
    "from scipy import stats\n",
    "kolmogorov_test = stats.kstest(samples, 'norm',alternative='two-sided')\n",
    "print(kolmogorov_test)\n",
    "shapiro_test = stats.shapiro(samples)\n",
    "print(shapiro_test)"
   ]
  },
  {
   "cell_type": "code",
   "execution_count": 3,
   "metadata": {},
   "outputs": [
    {
     "name": "stdout",
     "output_type": "stream",
     "text": [
      "The null hypothesis cannot be rejected\n"
     ]
    }
   ],
   "source": [
    "from scipy import stats\n",
    "p = shapiro_test.pvalue\n",
    "alpha = 0.05\n",
    "\n",
    "if p < alpha:  # null hypothesis: x comes from a normal distribution\n",
    "     print(\"The null hypothesis can be rejected\")\n",
    "else:\n",
    "     print(\"The null hypothesis cannot be rejected\")\n",
    "\n",
    "\n"
   ]
  },
  {
   "cell_type": "code",
   "execution_count": 4,
   "metadata": {},
   "outputs": [
    {
     "data": {
      "text/plain": [
       "(array([0.00835715, 0.00835715, 0.00835715, 0.00835715, 0.01671429,\n",
       "        0.01671429, 0.03342858, 0.03342858, 0.05014287, 0.05850002,\n",
       "        0.07521431, 0.0919286 , 0.10864289, 0.13371433, 0.15878577,\n",
       "        0.19221435, 0.20892864, 0.24235722, 0.26742866, 0.30085724,\n",
       "        0.31757153, 0.34264297, 0.37607155, 0.3844287 , 0.39278585,\n",
       "        0.3844287 , 0.40950014, 0.39278585, 0.37607155, 0.36771441,\n",
       "        0.34264297, 0.30921439, 0.30085724, 0.25907151, 0.24235722,\n",
       "        0.2005715 , 0.1838572 , 0.15042862, 0.12535718, 0.10864289,\n",
       "        0.08357146, 0.06685717, 0.05850002, 0.04178573, 0.03342858,\n",
       "        0.02507144, 0.02507144, 0.00835715, 0.01671429, 0.00835715]),\n",
       " array([-3.09726908, -2.977611  , -2.85795292, -2.73829484, -2.61863676,\n",
       "        -2.49897868, -2.3793206 , -2.25966252, -2.14000444, -2.02034636,\n",
       "        -1.90068828, -1.7810302 , -1.66137212, -1.54171404, -1.42205596,\n",
       "        -1.30239788, -1.1827398 , -1.06308172, -0.94342364, -0.82376556,\n",
       "        -0.70410748, -0.5844494 , -0.46479132, -0.34513324, -0.22547516,\n",
       "        -0.10581708,  0.013841  ,  0.13349908,  0.25315716,  0.37281524,\n",
       "         0.49247332,  0.6121314 ,  0.73178948,  0.85144756,  0.97110564,\n",
       "         1.09076372,  1.2104218 ,  1.33007987,  1.44973795,  1.56939603,\n",
       "         1.68905411,  1.80871219,  1.92837027,  2.04802835,  2.16768643,\n",
       "         2.28734451,  2.40700259,  2.52666067,  2.64631875,  2.76597683,\n",
       "         2.88563491]),\n",
       " <BarContainer object of 50 artists>)"
      ]
     },
     "execution_count": 4,
     "metadata": {},
     "output_type": "execute_result"
    },
    {
     "data": {
      "image/png": "[encoded data removed]",
      "text/plain": [
       "<Figure size 432x288 with 1 Axes>"
      ]
     },
     "metadata": {
      "needs_background": "light"
     },
     "output_type": "display_data"
    }
   ],
   "source": [
    "import numpy as np\n",
    "import pandas as pd\n",
    "import scipy.stats as st\n",
    "import sklearn.linear_model as lm\n",
    "import matplotlib.pyplot as plt\n",
    "plt.hist(samples,bins=50,density=1)"
   ]
  },
  {
   "cell_type": "code",
   "execution_count": 5,
   "metadata": {},
   "outputs": [
    {
     "data": {
      "text/plain": [
       "(30.458834814256683, 0.0009927051643259732, 0.03162277660168379)"
      ]
     },
     "execution_count": 5,
     "metadata": {},
     "output_type": "execute_result"
    }
   ],
   "source": [
    "def Callqsim(S0, K, r, Ti, sigma,M):\n",
    "    distribution = chaospy.J(chaospy.Normal(0, 1),chaospy.Normal(0, 1))\n",
    "    samples = np.array(distribution.sample(M,rule=\"halton\"))[0]\n",
    "    ri      = (r-0.5*sigma**2)*Ti\n",
    "    sd      = sigma*np.sqrt(Ti)\n",
    "    price   = S0*np.exp(ri+sd*samples)\n",
    "    call    = np.maximum(price - K,0)\n",
    "    Pcall   = call*(np.exp(-ri*Ti))\n",
    "    pricem  = np.mean(Pcall)\n",
    "    rmse    = np.var(Pcall)/M\n",
    "    rate    = 1/np.sqrt(M)\n",
    "    return(pricem,rmse,rate)\n",
    "\n",
    "\n",
    "S0 = 100     \n",
    "K  = 70        \n",
    "r  = 0.02       \n",
    "Ti = 1/4       \n",
    "sigma = 0.02 \n",
    "M = 1000\n",
    "Callqsim(S0,K,r,Ti,sigma,M)"
   ]
  },
  {
   "cell_type": "code",
   "execution_count": 6,
   "metadata": {},
   "outputs": [
    {
     "data": {
      "text/plain": [
       "matrix([[3.04588348e+01, 9.92705164e-04, 3.16227766e-02]])"
      ]
     },
     "execution_count": 6,
     "metadata": {},
     "output_type": "execute_result"
    }
   ],
   "source": [
    "np.random.seed(6969)\n",
    "qmc_simul = Callqsim(S0,K,r,Ti,sigma,M)\n",
    "qmc_simul = np.asmatrix(qmc_simul)\n",
    "qmc_simul"
   ]
  },
  {
   "cell_type": "code",
   "execution_count": 7,
   "metadata": {},
   "outputs": [
    {
     "data": {
      "text/plain": [
       "matrix([[3.04421066e+01, 4.86436787e-03, 7.07106781e-02],\n",
       "        [3.04510494e+01, 3.28329897e-03, 5.77350269e-02],\n",
       "        [3.04503784e+01, 2.47325426e-03, 5.00000000e-02],\n",
       "        ...,\n",
       "        [3.04634056e+01, 1.01044048e-05, 3.16703178e-03],\n",
       "        [3.04634024e+01, 1.00941281e-05, 3.16544469e-03],\n",
       "        [3.04634252e+01, 1.00844990e-05, 3.16385999e-03]])"
      ]
     },
     "execution_count": 7,
     "metadata": {},
     "output_type": "execute_result"
    }
   ],
   "source": [
    "N=100\n",
    "items = np.arange(2,1000,1)\n",
    "qmc_simul1 = []\n",
    "for i in items:\n",
    "    qmc_simul1.append(Callqsim(S0,K,r,Ti,sigma,N*i))\n",
    "qmc_simul1 = np.asmatrix(qmc_simul1)\n",
    "qmc_simul1"
   ]
  },
  {
   "cell_type": "code",
   "execution_count": 8,
   "metadata": {},
   "outputs": [
    {
     "data": {
      "text/plain": [
       "matrix([[3.04588348e+01, 9.92705164e-04, 3.16227766e-02],\n",
       "        [3.04421066e+01, 4.86436787e-03, 7.07106781e-02],\n",
       "        [3.04510494e+01, 3.28329897e-03, 5.77350269e-02],\n",
       "        ...,\n",
       "        [3.04634056e+01, 1.01044048e-05, 3.16703178e-03],\n",
       "        [3.04634024e+01, 1.00941281e-05, 3.16544469e-03],\n",
       "        [3.04634252e+01, 1.00844990e-05, 3.16385999e-03]])"
      ]
     },
     "execution_count": 8,
     "metadata": {},
     "output_type": "execute_result"
    }
   ],
   "source": [
    "qmc = np.concatenate((qmc_simul,qmc_simul1))\n",
    "qmc"
   ]
  },
  {
   "cell_type": "markdown",
   "metadata": {},
   "source": [
    "## Value plot"
   ]
  },
  {
   "cell_type": "code",
   "execution_count": 9,
   "metadata": {},
   "outputs": [
    {
     "data": {
      "text/plain": [
       "[<matplotlib.lines.Line2D at 0x7fb7721b8d10>]"
      ]
     },
     "execution_count": 9,
     "metadata": {},
     "output_type": "execute_result"
    },
    {
     "data": {
      "image/png": "[encoded data removed]",
      "text/plain": [
       "<Figure size 864x288 with 1 Axes>"
      ]
     },
     "metadata": {
      "needs_background": "light"
     },
     "output_type": "display_data"
    }
   ],
   "source": [
    "plt.figure(figsize=(12,4))\n",
    "plt.xlim(0,(N))\n",
    "\n",
    "plt.plot((qmc[:,0]))"
   ]
  },
  {
   "cell_type": "markdown",
   "metadata": {},
   "source": [
    "## convergence rate plot "
   ]
  },
  {
   "cell_type": "code",
   "execution_count": 10,
   "metadata": {},
   "outputs": [
    {
     "data": {
      "text/plain": [
       "[<matplotlib.lines.Line2D at 0x7fb76d05eed0>]"
      ]
     },
     "execution_count": 10,
     "metadata": {},
     "output_type": "execute_result"
    },
    {
     "data": {
      "image/png": "[encoded data removed]",
      "text/plain": [
       "<Figure size 864x288 with 1 Axes>"
      ]
     },
     "metadata": {
      "needs_background": "light"
     },
     "output_type": "display_data"
    }
   ],
   "source": [
    "plt.figure(figsize=(12,4))\n",
    "plt.xlim(0,(N))\n",
    "\n",
    "plt.plot((qmc[:,2]))"
   ]
  },
  {
   "cell_type": "code",
   "execution_count": null,
   "metadata": {},
   "outputs": [],
   "source": []
  }
 ],
 "metadata": {
  "kernelspec": {
   "display_name": "Python 3",
   "language": "python",
   "name": "python3"
  },
  "language_info": {
   "codemirror_mode": {
    "name": "ipython",
    "version": 3
   },
   "file_extension": ".py",
   "mimetype": "text/x-python",
   "name": "python",
   "nbconvert_exporter": "python",
   "pygments_lexer": "ipython3",
   "version": "3.7.4"
  }
 },
 "nbformat": 4,
 "nbformat_minor": 4
}
