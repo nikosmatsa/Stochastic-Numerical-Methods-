{
 "cells": [
  {
   "cell_type": "markdown",
   "metadata": {},
   "source": [
    "# Euler Maruyama Black Scholes "
   ]
  },
  {
   "cell_type": "code",
   "execution_count": 14,
   "metadata": {},
   "outputs": [
    {
     "data": {
      "text/plain": [
       "30.429673684059956"
      ]
     },
     "execution_count": 14,
     "metadata": {},
     "output_type": "execute_result"
    }
   ],
   "source": [
    "import numpy as np\n",
    "import sdeint\n",
    "\n",
    "\n",
    "np.random.seed(123)\n",
    "N = 10000\n",
    "sigma = 0.02           #long-term average volatility\n",
    "r     = 0.02           #risk-free interest rate\n",
    "tau   = 1/4            #time to maturity\n",
    "S0    = 100            #initial share price\n",
    "K     = 70             #strike price\n",
    "y0 = S0\n",
    "mu = np.log(S0)+ ((r-sigma**2)/2)\n",
    "tspan = np.linspace(0.0, 1.0/4, N+1)\n",
    "\n",
    "def f(x, t):\n",
    "    return mu \n",
    "\n",
    "def g(x, t):\n",
    "    return sigma\n",
    "\n",
    "S = sdeint.itoEuler(f, g, y0, tspan)\n",
    "S\n",
    "V  =  np.exp(-r*tau)*np.maximum(S-K,0)  \n",
    "AV =  np.mean(V) \n",
    "AV"
   ]
  }
 ],
 "metadata": {
  "kernelspec": {
   "display_name": "Python 3",
   "language": "python",
   "name": "python3"
  },
  "language_info": {
   "codemirror_mode": {
    "name": "ipython",
    "version": 3
   },
   "file_extension": ".py",
   "mimetype": "text/x-python",
   "name": "python",
   "nbconvert_exporter": "python",
   "pygments_lexer": "ipython3",
   "version": "3.8.3"
  }
 },
 "nbformat": 4,
 "nbformat_minor": 4
}
